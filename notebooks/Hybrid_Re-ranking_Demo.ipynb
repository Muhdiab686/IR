{
 "cells": [
  {
   "cell_type": "code",
   "execution_count": 1,
   "id": "f68c6669",
   "metadata": {},
   "outputs": [
    {
     "name": "stdout",
     "output_type": "stream",
     "text": [
      "Evaluating Hybrid Retrieval on antique ...\n",
      "--- Starting evaluation for Hybrid Model on 'antique' ---\n",
      "Loading BM25 search artifacts for 'antique'...\n",
      "✅ BM25 Searcher initialized.\n",
      "Loading BERT search artifacts for 'antique'...\n"
     ]
    },
    {
     "name": "stderr",
     "output_type": "stream",
     "text": [
      "c:\\Users\\muhammad\\Desktop\\ir\\venv310\\lib\\site-packages\\tqdm\\auto.py:21: TqdmWarning: IProgress not found. Please update jupyter and ipywidgets. See https://ipywidgets.readthedocs.io/en/stable/user_install.html\n",
      "  from .autonotebook import tqdm as notebook_tqdm\n"
     ]
    },
    {
     "name": "stdout",
     "output_type": "stream",
     "text": [
      "✅ BERT Searcher initialized successfully.\n",
      "✅ HybridSearcher initialized successfully.\n",
      "Evaluating hybrid model...\n"
     ]
    },
    {
     "name": "stderr",
     "output_type": "stream",
     "text": [
      "100%|██████████| 200/200 [15:04<00:00,  4.52s/it]\n"
     ]
    },
    {
     "name": "stdout",
     "output_type": "stream",
     "text": [
      "✅ Saved JSON to data\\evaluation_results\\antique_hybrid_evaluation_results.json\n",
      "✅ Evaluation finished. Results saved to data/evaluation_results/antique_hybrid_evaluation_results.json\n",
      "{'Model': 'Hybrid (BM25 + BERT) on antique', 'Precision@10': np.float64(0.518), 'Recall': np.float64(0.4395285374071864), 'MRR': np.float64(0.8814573412698411), 'MAP': np.float64(0.2538488415227853)}\n",
      "Evaluating Hybrid Retrieval on quora ...\n",
      "--- Starting evaluation for Hybrid Model on 'quora' ---\n",
      "Loading BM25 search artifacts for 'quora'...\n",
      "✅ BM25 Searcher initialized.\n",
      "Loading BERT search artifacts for 'quora'...\n",
      "✅ BERT Searcher initialized successfully.\n",
      "✅ HybridSearcher initialized successfully.\n",
      "Evaluating hybrid model...\n"
     ]
    },
    {
     "name": "stderr",
     "output_type": "stream",
     "text": [
      "100%|██████████| 10000/10000 [6:14:36<00:00,  2.25s/it] \n"
     ]
    },
    {
     "name": "stdout",
     "output_type": "stream",
     "text": [
      "✅ Saved JSON to data\\evaluation_results\\quora_hybrid_evaluation_results.json\n",
      "✅ Evaluation finished. Results saved to data/evaluation_results/quora_hybrid_evaluation_results.json\n",
      "{'Model': 'Hybrid (BM25 + BERT) on quora', 'Precision@10': np.float64(0.12830000000000003), 'Recall': np.float64(0.9479564201255382), 'MRR': np.float64(0.8599754310938497), 'MAP': np.float64(0.8266121846432352)}\n"
     ]
    },
    {
     "data": {
      "text/html": [
       "<div>\n",
       "<style scoped>\n",
       "    .dataframe tbody tr th:only-of-type {\n",
       "        vertical-align: middle;\n",
       "    }\n",
       "\n",
       "    .dataframe tbody tr th {\n",
       "        vertical-align: top;\n",
       "    }\n",
       "\n",
       "    .dataframe thead th {\n",
       "        text-align: right;\n",
       "    }\n",
       "</style>\n",
       "<table border=\"1\" class=\"dataframe\">\n",
       "  <thead>\n",
       "    <tr style=\"text-align: right;\">\n",
       "      <th></th>\n",
       "      <th>MAP</th>\n",
       "      <th>MRR</th>\n",
       "      <th>Precision@10</th>\n",
       "      <th>Evaluated queries</th>\n",
       "    </tr>\n",
       "    <tr>\n",
       "      <th>Model</th>\n",
       "      <th></th>\n",
       "      <th></th>\n",
       "      <th></th>\n",
       "      <th></th>\n",
       "    </tr>\n",
       "  </thead>\n",
       "  <tbody>\n",
       "    <tr>\n",
       "      <th>Hybrid (antique)</th>\n",
       "      <td>0.253849</td>\n",
       "      <td>0.881457</td>\n",
       "      <td>0.5180</td>\n",
       "      <td>None</td>\n",
       "    </tr>\n",
       "    <tr>\n",
       "      <th>Hybrid (quora)</th>\n",
       "      <td>0.826612</td>\n",
       "      <td>0.859975</td>\n",
       "      <td>0.1283</td>\n",
       "      <td>None</td>\n",
       "    </tr>\n",
       "  </tbody>\n",
       "</table>\n",
       "</div>"
      ],
      "text/plain": [
       "                       MAP       MRR  Precision@10 Evaluated queries\n",
       "Model                                                               \n",
       "Hybrid (antique)  0.253849  0.881457        0.5180              None\n",
       "Hybrid (quora)    0.826612  0.859975        0.1283              None"
      ]
     },
     "metadata": {},
     "output_type": "display_data"
    }
   ],
   "source": [
    "import sys\n",
    "import os\n",
    "import pandas as pd\n",
    "\n",
    "os.chdir(\"..\")\n",
    "\n",
    "os.chdir(r\"C:\\Users\\muhammad\\Desktop\\ir\")\n",
    "from services.document_store.config import DATASETS\n",
    "from services.evaluation.hybrid_evaluator import evaluate_hybrid\n",
    "\n",
    "results_list = []\n",
    "datasets_to_eval = list(DATASETS.keys())\n",
    "for dataset_key in datasets_to_eval:\n",
    "    print(f\"Evaluating Hybrid Retrieval on {dataset_key} ...\")\n",
    "    dataset_name = DATASETS[dataset_key]\n",
    "\n",
    "    results = evaluate_hybrid(dataset_key ,dataset_name)\n",
    "    row = {\"Model\": f\"Hybrid ({dataset_key})\"}\n",
    "    row.update({\n",
    "        \"MAP\": results.get(\"MAP\", None),\n",
    "        \"MRR\": results.get(\"MRR\", None),\n",
    "        \"Precision@10\": results.get(\"Precision@10\", None),\n",
    "        \"Evaluated queries\": results.get(\"evaluated_queries\", None)\n",
    "    })\n",
    "    results_list.append(row)\n",
    "\n",
    "# جدول النتائج\n",
    "df = pd.DataFrame(results_list).set_index(\"Model\")\n",
    "display(df)\n"
   ]
  }
 ],
 "metadata": {
  "kernelspec": {
   "display_name": "venv310",
   "language": "python",
   "name": "python3"
  },
  "language_info": {
   "codemirror_mode": {
    "name": "ipython",
    "version": 3
   },
   "file_extension": ".py",
   "mimetype": "text/x-python",
   "name": "python",
   "nbconvert_exporter": "python",
   "pygments_lexer": "ipython3",
   "version": "3.10.0"
  }
 },
 "nbformat": 4,
 "nbformat_minor": 5
}
