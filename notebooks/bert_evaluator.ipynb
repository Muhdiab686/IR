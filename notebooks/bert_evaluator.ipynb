{
 "cells": [
  {
   "cell_type": "code",
   "execution_count": null,
   "id": "7f33f257",
   "metadata": {},
   "outputs": [
    {
     "name": "stdout",
     "output_type": "stream",
     "text": [
      "Loading BERT search artifacts for 'antique'...\n"
     ]
    },
    {
     "name": "stderr",
     "output_type": "stream",
     "text": [
      "c:\\Users\\muhammad\\Desktop\\ir\\venv310\\lib\\site-packages\\tqdm\\auto.py:21: TqdmWarning: IProgress not found. Please update jupyter and ipywidgets. See https://ipywidgets.readthedocs.io/en/stable/user_install.html\n",
      "  from .autonotebook import tqdm as notebook_tqdm\n"
     ]
    },
    {
     "name": "stdout",
     "output_type": "stream",
     "text": [
      "✅ BERT Searcher initialized successfully.\n",
      "Loading qrels for antique/test...\n",
      "Evaluating BERT model...\n"
     ]
    },
    {
     "name": "stderr",
     "output_type": "stream",
     "text": [
      "100%|██████████| 200/200 [05:03<00:00,  1.52s/it]\n"
     ]
    },
    {
     "name": "stdout",
     "output_type": "stream",
     "text": [
      "✅ Saved JSON to C:\\Users\\muhammad\\Desktop\\ir\\data\\evaluation_results\\antique_bert_evaluation_results.json\n",
      "Loading BERT search artifacts for 'quora'...\n",
      "✅ BERT Searcher initialized successfully.\n",
      "Loading qrels for beir/quora/test...\n",
      "Evaluating BERT model...\n"
     ]
    },
    {
     "name": "stderr",
     "output_type": "stream",
     "text": [
      "100%|██████████| 10000/10000 [5:41:41<00:00,  2.05s/it] "
     ]
    },
    {
     "name": "stdout",
     "output_type": "stream",
     "text": [
      "✅ Saved JSON to C:\\Users\\muhammad\\Desktop\\ir\\data\\evaluation_results\\quora_bert_evaluation_results.json\n"
     ]
    },
    {
     "name": "stderr",
     "output_type": "stream",
     "text": [
      "\n"
     ]
    },
    {
     "data": {
      "text/html": [
       "<div>\n",
       "<style scoped>\n",
       "    .dataframe tbody tr th:only-of-type {\n",
       "        vertical-align: middle;\n",
       "    }\n",
       "\n",
       "    .dataframe tbody tr th {\n",
       "        vertical-align: top;\n",
       "    }\n",
       "\n",
       "    .dataframe thead th {\n",
       "        text-align: right;\n",
       "    }\n",
       "</style>\n",
       "<table border=\"1\" class=\"dataframe\">\n",
       "  <thead>\n",
       "    <tr style=\"text-align: right;\">\n",
       "      <th></th>\n",
       "      <th>Precision@10</th>\n",
       "      <th>Recall</th>\n",
       "      <th>MRR</th>\n",
       "      <th>MAP</th>\n",
       "    </tr>\n",
       "    <tr>\n",
       "      <th>Model</th>\n",
       "      <th></th>\n",
       "      <th></th>\n",
       "      <th></th>\n",
       "      <th></th>\n",
       "    </tr>\n",
       "  </thead>\n",
       "  <tbody>\n",
       "    <tr>\n",
       "      <th>BERT (antique)</th>\n",
       "      <td>0.46300</td>\n",
       "      <td>1.0</td>\n",
       "      <td>0.849043</td>\n",
       "      <td>0.231343</td>\n",
       "    </tr>\n",
       "    <tr>\n",
       "      <th>BERT (quora)</th>\n",
       "      <td>0.13284</td>\n",
       "      <td>1.0</td>\n",
       "      <td>0.864390</td>\n",
       "      <td>0.837902</td>\n",
       "    </tr>\n",
       "  </tbody>\n",
       "</table>\n",
       "</div>"
      ],
      "text/plain": [
       "                Precision@10  Recall       MRR       MAP\n",
       "Model                                                   \n",
       "BERT (antique)       0.46300     1.0  0.849043  0.231343\n",
       "BERT (quora)         0.13284     1.0  0.864390  0.837902"
      ]
     },
     "metadata": {},
     "output_type": "display_data"
    }
   ],
   "source": [
    "import sys\n",
    "import os\n",
    "import pandas as pd\n",
    "\n",
    "os.chdir(\"..\")\n",
    "os.chdir(r\"C:\\Users\\muhammad\\Desktop\\ir\")\n",
    "\n",
    "from services.evaluation.bert_evaluator import evaluate_bert_model\n",
    "from services.retrieval.bert_retrieval import BertSearcher\n",
    "from services.document_store.config import DATASETS\n",
    "\n",
    "results_list = []\n",
    "datasets_to_eval = [\"antique\", \"quora\"]\n",
    "\n",
    "for dataset_key in datasets_to_eval:\n",
    "    dataset_name = DATASETS[dataset_key]\n",
    "    searcher = BertSearcher(dataset_key)\n",
    "    results = evaluate_bert_model(searcher, dataset_name ,dataset_key)\n",
    "    row = {\"Model\": f\"BERT ({dataset_key})\"}\n",
    "    row.update(results)\n",
    "    results_list.append(row)\n",
    "\n",
    "df = pd.DataFrame(results_list).set_index(\"Model\")\n",
    "display(df)\n"
   ]
  },
  {
   "cell_type": "code",
   "execution_count": 2,
   "id": "203b0fdd",
   "metadata": {},
   "outputs": [
    {
     "name": "stdout",
     "output_type": "stream",
     "text": [
      "Loading BERT artifacts for 'antique' (Faiss enabled: True)...\n",
      "✅ Faiss index loaded.\n",
      "✅ BERT Searcher initialized successfully.\n",
      "Loading qrels for antique/test...\n",
      "Evaluating BERT model (using Faiss: True)...\n"
     ]
    },
    {
     "name": "stderr",
     "output_type": "stream",
     "text": [
      "100%|██████████| 200/200 [03:19<00:00,  1.00it/s]\n"
     ]
    },
    {
     "name": "stdout",
     "output_type": "stream",
     "text": [
      "✅ Saved JSON to C:\\Users\\muhammad\\Desktop\\ir\\data\\evaluation_results\\antique_bert_faiss.json\n",
      "Loading BERT artifacts for 'quora' (Faiss enabled: True)...\n",
      "✅ Faiss index loaded.\n",
      "✅ BERT Searcher initialized successfully.\n",
      "Loading qrels for beir/quora/test...\n",
      "Evaluating BERT model (using Faiss: True)...\n"
     ]
    },
    {
     "name": "stderr",
     "output_type": "stream",
     "text": [
      "100%|██████████| 10000/10000 [4:06:16<00:00,  1.48s/it] \n"
     ]
    },
    {
     "name": "stdout",
     "output_type": "stream",
     "text": [
      "✅ Saved JSON to C:\\Users\\muhammad\\Desktop\\ir\\data\\evaluation_results\\quora_bert_faiss.json\n"
     ]
    },
    {
     "data": {
      "text/html": [
       "<div>\n",
       "<style scoped>\n",
       "    .dataframe tbody tr th:only-of-type {\n",
       "        vertical-align: middle;\n",
       "    }\n",
       "\n",
       "    .dataframe tbody tr th {\n",
       "        vertical-align: top;\n",
       "    }\n",
       "\n",
       "    .dataframe thead th {\n",
       "        text-align: right;\n",
       "    }\n",
       "</style>\n",
       "<table border=\"1\" class=\"dataframe\">\n",
       "  <thead>\n",
       "    <tr style=\"text-align: right;\">\n",
       "      <th></th>\n",
       "      <th>Precision@10</th>\n",
       "      <th>Recall</th>\n",
       "      <th>MRR</th>\n",
       "      <th>MAP</th>\n",
       "    </tr>\n",
       "    <tr>\n",
       "      <th>Model</th>\n",
       "      <th></th>\n",
       "      <th></th>\n",
       "      <th></th>\n",
       "      <th></th>\n",
       "    </tr>\n",
       "  </thead>\n",
       "  <tbody>\n",
       "    <tr>\n",
       "      <th>BERT (antique)</th>\n",
       "      <td>0.46300</td>\n",
       "      <td>1.0</td>\n",
       "      <td>0.849043</td>\n",
       "      <td>0.231341</td>\n",
       "    </tr>\n",
       "    <tr>\n",
       "      <th>BERT (quora)</th>\n",
       "      <td>0.13285</td>\n",
       "      <td>1.0</td>\n",
       "      <td>0.864542</td>\n",
       "      <td>0.838156</td>\n",
       "    </tr>\n",
       "  </tbody>\n",
       "</table>\n",
       "</div>"
      ],
      "text/plain": [
       "                Precision@10  Recall       MRR       MAP\n",
       "Model                                                   \n",
       "BERT (antique)       0.46300     1.0  0.849043  0.231341\n",
       "BERT (quora)         0.13285     1.0  0.864542  0.838156"
      ]
     },
     "metadata": {},
     "output_type": "display_data"
    }
   ],
   "source": [
    "import sys\n",
    "import os\n",
    "import pandas as pd\n",
    "\n",
    "os.chdir(\"..\")\n",
    "os.chdir(r\"C:\\Users\\muhammad\\Desktop\\ir\")\n",
    "\n",
    "from services.evaluation.bert_evaluator import evaluate_bert_model\n",
    "from services.retrieval.bert_retrieval import BertSearcher\n",
    "from services.document_store.config import DATASETS\n",
    "\n",
    "results_list = []\n",
    "datasets_to_eval = [\"antique\", \"quora\"]\n",
    "\n",
    "for dataset_key in datasets_to_eval:\n",
    "    dataset_name = DATASETS[dataset_key]\n",
    "    searcher = BertSearcher(dataset_key ,use_faiss = True)\n",
    "    results = evaluate_bert_model(searcher, dataset_name ,dataset_key,use_faiss = True)\n",
    "    row = {\"Model\": f\"BERT ({dataset_key})\"}\n",
    "    row.update(results)\n",
    "    results_list.append(row)\n",
    "\n",
    "df = pd.DataFrame(results_list).set_index(\"Model\")\n",
    "display(df)\n"
   ]
  },
  {
   "cell_type": "code",
   "execution_count": 1,
   "id": "2ed51713",
   "metadata": {},
   "outputs": [
    {
     "name": "stderr",
     "output_type": "stream",
     "text": [
      "c:\\Users\\muhammad\\Desktop\\ir\\venv310\\lib\\site-packages\\tqdm\\auto.py:21: TqdmWarning: IProgress not found. Please update jupyter and ipywidgets. See https://ipywidgets.readthedocs.io/en/stable/user_install.html\n",
      "  from .autonotebook import tqdm as notebook_tqdm\n"
     ]
    },
    {
     "name": "stdout",
     "output_type": "stream",
     "text": [
      "Loading BERT artifacts for 'antique' (Faiss enabled: True, RAG enabled: False)...\n",
      "✅ Faiss index loaded.\n",
      "✅ BERT Searcher initialized successfully.\n",
      "Loading text generation model: t5-small...\n",
      "✅ Generation model loaded.\n",
      "Running RAG evaluation for antique ...\n"
     ]
    },
    {
     "name": "stderr",
     "output_type": "stream",
     "text": [
      "100%|██████████| 100/100 [03:15<00:00,  1.96s/it]"
     ]
    },
    {
     "name": "stdout",
     "output_type": "stream",
     "text": [
      "Results saved to rag_eval_antique.csv\n"
     ]
    },
    {
     "name": "stderr",
     "output_type": "stream",
     "text": [
      "\n"
     ]
    },
    {
     "data": {
      "text/html": [
       "<div>\n",
       "<style scoped>\n",
       "    .dataframe tbody tr th:only-of-type {\n",
       "        vertical-align: middle;\n",
       "    }\n",
       "\n",
       "    .dataframe tbody tr th {\n",
       "        vertical-align: top;\n",
       "    }\n",
       "\n",
       "    .dataframe thead th {\n",
       "        text-align: right;\n",
       "    }\n",
       "</style>\n",
       "<table border=\"1\" class=\"dataframe\">\n",
       "  <thead>\n",
       "    <tr style=\"text-align: right;\">\n",
       "      <th></th>\n",
       "      <th>query_id</th>\n",
       "      <th>query_text</th>\n",
       "      <th>generated_answer</th>\n",
       "      <th>top_docs</th>\n",
       "    </tr>\n",
       "  </thead>\n",
       "  <tbody>\n",
       "    <tr>\n",
       "      <th>0</th>\n",
       "      <td>3990512</td>\n",
       "      <td>how can we get concentration onsomething?</td>\n",
       "      <td>Try Yoga for concentration</td>\n",
       "      <td>[In order to have mental peace,and to improve ...</td>\n",
       "    </tr>\n",
       "    <tr>\n",
       "      <th>1</th>\n",
       "      <td>714612</td>\n",
       "      <td>Why doesn't the water fall off  earth if it's ...</td>\n",
       "      <td>Answer:</td>\n",
       "      <td>[This goes along with the question of why don'...</td>\n",
       "    </tr>\n",
       "    <tr>\n",
       "      <th>2</th>\n",
       "      <td>2528767</td>\n",
       "      <td>How do I determine the charge of the iron ion ...</td>\n",
       "      <td>Question: How do I determine the charge of...</td>\n",
       "      <td>[charge of Fe in Fecl3 is 3. . iron has either...</td>\n",
       "    </tr>\n",
       "    <tr>\n",
       "      <th>3</th>\n",
       "      <td>821387</td>\n",
       "      <td>I have mice.How do I get rid of them humanely?</td>\n",
       "      <td>If you are seriously looking for a humane way ...</td>\n",
       "      <td>[Get rid of the mice or whatever it is they ea...</td>\n",
       "    </tr>\n",
       "    <tr>\n",
       "      <th>4</th>\n",
       "      <td>1880028</td>\n",
       "      <td>What does \"see Leaflet\" mean on Ept Pregnancy ...</td>\n",
       "      <td>Question: What does \"see Leaflet\" mean on Ept ...</td>\n",
       "      <td>[Leaflet is the info inside the package with t...</td>\n",
       "    </tr>\n",
       "  </tbody>\n",
       "</table>\n",
       "</div>"
      ],
      "text/plain": [
       "  query_id                                         query_text  \\\n",
       "0  3990512          how can we get concentration onsomething?   \n",
       "1   714612  Why doesn't the water fall off  earth if it's ...   \n",
       "2  2528767  How do I determine the charge of the iron ion ...   \n",
       "3   821387     I have mice.How do I get rid of them humanely?   \n",
       "4  1880028  What does \"see Leaflet\" mean on Ept Pregnancy ...   \n",
       "\n",
       "                                    generated_answer  \\\n",
       "0                         Try Yoga for concentration   \n",
       "1                                            Answer:   \n",
       "2      Question: How do I determine the charge of...   \n",
       "3  If you are seriously looking for a humane way ...   \n",
       "4  Question: What does \"see Leaflet\" mean on Ept ...   \n",
       "\n",
       "                                            top_docs  \n",
       "0  [In order to have mental peace,and to improve ...  \n",
       "1  [This goes along with the question of why don'...  \n",
       "2  [charge of Fe in Fecl3 is 3. . iron has either...  \n",
       "3  [Get rid of the mice or whatever it is they ea...  \n",
       "4  [Leaflet is the info inside the package with t...  "
      ]
     },
     "metadata": {},
     "output_type": "display_data"
    }
   ],
   "source": [
    "import sys\n",
    "import os\n",
    "import pandas as pd\n",
    "from tqdm import tqdm\n",
    "\n",
    "# إعداد المسار\n",
    "os.chdir(\"..\")\n",
    "os.chdir(r\"C:\\Users\\muhammad\\Desktop\\ir\")\n",
    "\n",
    "from services.retrieval.bert_retrieval import BertSearcher\n",
    "from services.rag.generator import TextGenerator\n",
    "from services.document_store.config import DATASETS\n",
    "import ir_datasets\n",
    "from transformers import logging as hf_logging\n",
    "hf_logging.set_verbosity_error()\n",
    "\n",
    "# إعداد الباحث والمولد\n",
    "datasets_to_eval = [\"antique\"]\n",
    "results_list = []\n",
    "\n",
    "for dataset_key in datasets_to_eval:\n",
    "    dataset_name = DATASETS[dataset_key]\n",
    "    searcher = BertSearcher(dataset_key, use_faiss=True)\n",
    "    generator = TextGenerator()\n",
    "    \n",
    "    dataset = ir_datasets.load(dataset_name)\n",
    "    queries = list(dataset.queries_iter())\n",
    "    \n",
    "    print(f\"Running RAG evaluation for {dataset_key} ...\")\n",
    "    rag_rows = []\n",
    "    for q in tqdm(queries[:100]):   # خذ أول 100 كويري فقط كمثال، غير الرقم حسب الحاجة\n",
    "        # 1. استرجاع المستندات الأكثر صلة\n",
    "        retrieved = searcher.search(q.text, top_k=10)\n",
    "        doc_ids = [doc_id for doc_id, score in retrieved]\n",
    "        \n",
    "        # 2. تحميل نصوص المستندات (مباشرة من ir_datasets أو من db حسب نظامك)\n",
    "        docs_texts = []\n",
    "        for doc_id in doc_ids:\n",
    "            try:\n",
    "                doc = dataset.docs_store().get(doc_id)\n",
    "                docs_texts.append(doc.text if doc else \"\")\n",
    "            except:\n",
    "                docs_texts.append(\"\")\n",
    "        \n",
    "        context = \" \".join(docs_texts)\n",
    "        \n",
    "        # 3. توليد إجابة عبر RAG\n",
    "        generated_answer = generator.answer_from_context(context, q.text)\n",
    "        \n",
    "        rag_rows.append({\n",
    "            \"query_id\": q.query_id,\n",
    "            \"query_text\": q.text,\n",
    "            \"generated_answer\": generated_answer,\n",
    "            \"top_docs\": docs_texts\n",
    "        })\n",
    "    \n",
    "    # حفظ النتائج\n",
    "    df = pd.DataFrame(rag_rows)\n",
    "    out_path = f\"rag_eval_{dataset_key}.csv\"\n",
    "    df.to_csv(out_path, index=False)\n",
    "    print(f\"Results saved to {out_path}\")\n",
    "    df = pd.DataFrame(rag_rows)\n",
    "    display(df.head())\n",
    "\n"
   ]
  }
 ],
 "metadata": {
  "kernelspec": {
   "display_name": "venv310",
   "language": "python",
   "name": "python3"
  },
  "language_info": {
   "codemirror_mode": {
    "name": "ipython",
    "version": 3
   },
   "file_extension": ".py",
   "mimetype": "text/x-python",
   "name": "python",
   "nbconvert_exporter": "python",
   "pygments_lexer": "ipython3",
   "version": "3.10.0"
  }
 },
 "nbformat": 4,
 "nbformat_minor": 5
}
