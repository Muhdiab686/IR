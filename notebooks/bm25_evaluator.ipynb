{
 "cells": [
  {
   "cell_type": "code",
   "execution_count": 1,
   "id": "85336fa2",
   "metadata": {},
   "outputs": [
    {
     "name": "stdout",
     "output_type": "stream",
     "text": [
      "----- تقييم BM25 على: antique -----\n",
      "Loading BM25 search artifacts for 'antique'...\n",
      "✅ BM25 Searcher initialized.\n",
      "Loading qrels for antique/test...\n",
      "Evaluating BM25 model...\n"
     ]
    },
    {
     "name": "stderr",
     "output_type": "stream",
     "text": [
      "100%|██████████| 200/200 [06:43<00:00,  2.02s/it]\n"
     ]
    },
    {
     "name": "stdout",
     "output_type": "stream",
     "text": [
      "✅ Saved JSON to C:\\Users\\muhammad\\Desktop\\ir\\data\\evaluation_results\\antique_bm25_evaluation_results.json\n",
      "{'Precision@10': np.float64(0.5285), 'Recall': np.float64(0.8887280046517292), 'MRR': np.float64(0.8501625503176694), 'MAP': np.float64(0.2746613057285982)}\n",
      "----- تقييم BM25 على: quora -----\n",
      "Loading BM25 search artifacts for 'quora'...\n",
      "✅ BM25 Searcher initialized.\n",
      "Loading qrels for beir/quora/test...\n",
      "Evaluating BM25 model...\n"
     ]
    },
    {
     "name": "stderr",
     "output_type": "stream",
     "text": [
      "100%|██████████| 10000/10000 [5:53:36<00:00,  2.12s/it] "
     ]
    },
    {
     "name": "stdout",
     "output_type": "stream",
     "text": [
      "✅ Saved JSON to C:\\Users\\muhammad\\Desktop\\ir\\data\\evaluation_results\\quora_bm25_evaluation_results.json\n",
      "{'Precision@10': np.float64(0.11171000000000002), 'Recall': np.float64(0.9991796195949644), 'MRR': np.float64(0.7349288106055097), 'MAP': np.float64(0.6940360899823692)}\n"
     ]
    },
    {
     "name": "stderr",
     "output_type": "stream",
     "text": [
      "\n"
     ]
    },
    {
     "data": {
      "text/html": [
       "<div>\n",
       "<style scoped>\n",
       "    .dataframe tbody tr th:only-of-type {\n",
       "        vertical-align: middle;\n",
       "    }\n",
       "\n",
       "    .dataframe tbody tr th {\n",
       "        vertical-align: top;\n",
       "    }\n",
       "\n",
       "    .dataframe thead th {\n",
       "        text-align: right;\n",
       "    }\n",
       "</style>\n",
       "<table border=\"1\" class=\"dataframe\">\n",
       "  <thead>\n",
       "    <tr style=\"text-align: right;\">\n",
       "      <th></th>\n",
       "      <th>Precision@10</th>\n",
       "      <th>Recall</th>\n",
       "      <th>MRR</th>\n",
       "      <th>MAP</th>\n",
       "    </tr>\n",
       "    <tr>\n",
       "      <th>Model</th>\n",
       "      <th></th>\n",
       "      <th></th>\n",
       "      <th></th>\n",
       "      <th></th>\n",
       "    </tr>\n",
       "  </thead>\n",
       "  <tbody>\n",
       "    <tr>\n",
       "      <th>BM25 (antique)</th>\n",
       "      <td>0.52850</td>\n",
       "      <td>0.888728</td>\n",
       "      <td>0.850163</td>\n",
       "      <td>0.274661</td>\n",
       "    </tr>\n",
       "    <tr>\n",
       "      <th>BM25 (quora)</th>\n",
       "      <td>0.11171</td>\n",
       "      <td>0.999180</td>\n",
       "      <td>0.734929</td>\n",
       "      <td>0.694036</td>\n",
       "    </tr>\n",
       "  </tbody>\n",
       "</table>\n",
       "</div>"
      ],
      "text/plain": [
       "                Precision@10    Recall       MRR       MAP\n",
       "Model                                                     \n",
       "BM25 (antique)       0.52850  0.888728  0.850163  0.274661\n",
       "BM25 (quora)         0.11171  0.999180  0.734929  0.694036"
      ]
     },
     "metadata": {},
     "output_type": "display_data"
    }
   ],
   "source": [
    "# ==============================\n",
    "# BM25 Evaluation Notebook (معدّل)\n",
    "# ==============================\n",
    "\n",
    "import os\n",
    "import json\n",
    "from pathlib import Path\n",
    "import pandas as pd\n",
    "\n",
    "# غير مجلد العمل إذا لزم الأمر\n",
    "os.chdir(r\"C:\\Users\\muhammad\\Desktop\\ir\")\n",
    "\n",
    "import pandas as pd\n",
    "from services.document_store.config import DATASETS\n",
    "from services.evaluation.bm25_evaluator import evaluate_bm25_model\n",
    "from services.retrieval.bm25_retrieval import BM25Searcher\n",
    "\n",
    "results_list = []\n",
    "\n",
    "datasets_to_eval = [\"antique\", \"quora\"]\n",
    "\n",
    "for dataset_key in datasets_to_eval:\n",
    "    dataset_name = DATASETS[dataset_key]\n",
    "    print(f\"----- تقييم BM25 على: {dataset_key} -----\")\n",
    "    searcher = BM25Searcher(dataset_key )\n",
    "    results = evaluate_bm25_model(searcher, dataset_name ,dataset_key)\n",
    "    print(results)\n",
    "    row = {\"Model\": f\"BM25 ({dataset_key})\"}\n",
    "    row.update(results)\n",
    "    results_list.append(row)\n",
    "\n",
    "# عرض النتائج في جدول\n",
    "df = pd.DataFrame(results_list).set_index(\"Model\")\n",
    "display(df)\n"
   ]
  }
 ],
 "metadata": {
  "kernelspec": {
   "display_name": "venv310",
   "language": "python",
   "name": "python3"
  },
  "language_info": {
   "codemirror_mode": {
    "name": "ipython",
    "version": 3
   },
   "file_extension": ".py",
   "mimetype": "text/x-python",
   "name": "python",
   "nbconvert_exporter": "python",
   "pygments_lexer": "ipython3",
   "version": "3.10.0"
  }
 },
 "nbformat": 4,
 "nbformat_minor": 5
}
