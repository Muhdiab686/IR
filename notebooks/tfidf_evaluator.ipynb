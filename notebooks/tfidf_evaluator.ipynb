{
 "cells": [
  {
   "cell_type": "code",
   "execution_count": 2,
   "id": "dbd04d05",
   "metadata": {},
   "outputs": [
    {
     "name": "stdout",
     "output_type": "stream",
     "text": [
      "Loading search artifacts for 'antique'...\n",
      "✅ Searcher initialized successfully.\n",
      "Loading qrels for antique/test...\n",
      "Evaluating model...\n"
     ]
    },
    {
     "name": "stderr",
     "output_type": "stream",
     "text": [
      "100%|██████████| 200/200 [00:59<00:00,  3.35it/s]\n"
     ]
    },
    {
     "name": "stdout",
     "output_type": "stream",
     "text": [
      "✅ Saved JSON to C:\\Users\\muhammad\\Desktop\\ir\\data\\evaluation_results\\antique_evaluation_results.json\n",
      "Loading search artifacts for 'quora'...\n",
      "✅ Searcher initialized successfully.\n",
      "Loading qrels for beir/quora/test...\n",
      "Evaluating model...\n"
     ]
    },
    {
     "name": "stderr",
     "output_type": "stream",
     "text": [
      " 50%|█████     | 5001/10000 [16:12<13:11,  6.31it/s]"
     ]
    },
    {
     "name": "stdout",
     "output_type": "stream",
     "text": [
      "Progress: 20000 queries processed...\n"
     ]
    },
    {
     "name": "stderr",
     "output_type": "stream",
     "text": [
      "100%|██████████| 10000/10000 [31:46<00:00,  5.24it/s]"
     ]
    },
    {
     "name": "stdout",
     "output_type": "stream",
     "text": [
      "✅ Saved JSON to C:\\Users\\muhammad\\Desktop\\ir\\data\\evaluation_results\\quora_evaluation_results.json\n"
     ]
    },
    {
     "name": "stderr",
     "output_type": "stream",
     "text": [
      "\n"
     ]
    },
    {
     "data": {
      "text/html": [
       "<div>\n",
       "<style scoped>\n",
       "    .dataframe tbody tr th:only-of-type {\n",
       "        vertical-align: middle;\n",
       "    }\n",
       "\n",
       "    .dataframe tbody tr th {\n",
       "        vertical-align: top;\n",
       "    }\n",
       "\n",
       "    .dataframe thead th {\n",
       "        text-align: right;\n",
       "    }\n",
       "</style>\n",
       "<table border=\"1\" class=\"dataframe\">\n",
       "  <thead>\n",
       "    <tr style=\"text-align: right;\">\n",
       "      <th></th>\n",
       "      <th>Precision@10</th>\n",
       "      <th>Recall</th>\n",
       "      <th>MRR</th>\n",
       "      <th>MAP</th>\n",
       "    </tr>\n",
       "    <tr>\n",
       "      <th>Model</th>\n",
       "      <th></th>\n",
       "      <th></th>\n",
       "      <th></th>\n",
       "      <th></th>\n",
       "    </tr>\n",
       "  </thead>\n",
       "  <tbody>\n",
       "    <tr>\n",
       "      <th>TF-IDF (antique)</th>\n",
       "      <td>0.37500</td>\n",
       "      <td>0.846173</td>\n",
       "      <td>0.744233</td>\n",
       "      <td>0.215231</td>\n",
       "    </tr>\n",
       "    <tr>\n",
       "      <th>TF-IDF (quora)</th>\n",
       "      <td>0.10907</td>\n",
       "      <td>0.998212</td>\n",
       "      <td>0.707136</td>\n",
       "      <td>0.671194</td>\n",
       "    </tr>\n",
       "  </tbody>\n",
       "</table>\n",
       "</div>"
      ],
      "text/plain": [
       "                  Precision@10    Recall       MRR       MAP\n",
       "Model                                                       \n",
       "TF-IDF (antique)       0.37500  0.846173  0.744233  0.215231\n",
       "TF-IDF (quora)         0.10907  0.998212  0.707136  0.671194"
      ]
     },
     "metadata": {},
     "output_type": "display_data"
    }
   ],
   "source": [
    "import sys\n",
    "import os\n",
    "import pandas as pd\n",
    "\n",
    "os.chdir(\"..\")\n",
    "\n",
    "os.chdir(r\"C:\\Users\\muhammad\\Desktop\\ir\")\n",
    "from services.evaluation.tfidf_evaluator import evaluate_model\n",
    "from services.retrieval.tfidf_retrieval import Searcher\n",
    "\n",
    "results_list = []\n",
    "\n",
    "import pandas as pd\n",
    "from services.document_store.config import DATASETS\n",
    "\n",
    "\n",
    "datasets_to_eval = [\"antique\", \"quora\"] \n",
    "\n",
    "for dataset_key in datasets_to_eval:\n",
    "    dataset_name = DATASETS[dataset_key]\n",
    "    searcher = Searcher(dataset_key)\n",
    "    results = evaluate_model(searcher, dataset_name , dataset_key)\n",
    "    row = {\"Model\": f\"TF-IDF ({dataset_key})\"}\n",
    "    row.update(results)\n",
    "    results_list.append(row)\n",
    "\n",
    "df = pd.DataFrame(results_list)\n",
    "df = df.set_index(\"Model\")\n",
    "display(df)\n"
   ]
  }
 ],
 "metadata": {
  "kernelspec": {
   "display_name": "venv310",
   "language": "python",
   "name": "python3"
  },
  "language_info": {
   "codemirror_mode": {
    "name": "ipython",
    "version": 3
   },
   "file_extension": ".py",
   "mimetype": "text/x-python",
   "name": "python",
   "nbconvert_exporter": "python",
   "pygments_lexer": "ipython3",
   "version": "3.10.0"
  }
 },
 "nbformat": 4,
 "nbformat_minor": 5
}
